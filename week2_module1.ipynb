{
  "nbformat": 4,
  "nbformat_minor": 0,
  "metadata": {
    "colab": {
      "provenance": []
    },
    "kernelspec": {
      "name": "python3",
      "display_name": "Python 3"
    },
    "language_info": {
      "name": "python"
    }
  },
  "cells": [
    {
      "cell_type": "code",
      "execution_count": 1,
      "metadata": {
        "colab": {
          "base_uri": "https://localhost:8080/"
        },
        "id": "x2tSdhM8YGD2",
        "outputId": "47858af5-0cd7-42af-a57d-db208e18d5c8"
      },
      "outputs": [
        {
          "output_type": "stream",
          "name": "stdout",
          "text": [
            "[5, 5, 5, 5, 10, 12, 33, 33]\n"
          ]
        }
      ],
      "source": [
        "num_list = [3, 4, 5, 1, -44 , 5 ,10, 12 ,33, 1]\n",
        "k =3\n",
        "b=[]\n",
        "for i in range(len(num_list)-k+1):\n",
        "    a = num_list[i:i+k]\n",
        "    b.append(max(a))\n",
        "print(b)"
      ]
    },
    {
      "cell_type": "code",
      "source": [
        "def count_letters(word):\n",
        "    letter_count = {}\n",
        "    for letter in word:\n",
        "        if letter in letter_count:\n",
        "            letter_count[letter] += 1\n",
        "        else:\n",
        "            letter_count[letter] = 1\n",
        "    return letter_count\n",
        "\n",
        "word = \"OpenAIa\"\n",
        "result = count_letters(word)\n",
        "print(result)"
      ],
      "metadata": {
        "colab": {
          "base_uri": "https://localhost:8080/"
        },
        "id": "nEJmLt7UYITN",
        "outputId": "4d321955-b8ee-4013-cdf9-ec81de9de5ca"
      },
      "execution_count": 2,
      "outputs": [
        {
          "output_type": "stream",
          "name": "stdout",
          "text": [
            "{'O': 1, 'p': 1, 'e': 1, 'n': 1, 'A': 1, 'I': 1, 'a': 1}\n"
          ]
        }
      ]
    },
    {
      "cell_type": "code",
      "source": [
        "!gdown https://drive.google.com/uc?id=1IBScGdW2xlNsc9v5zSAya548kNgiOrko\n",
        "file_path = 'C:\\HocDaiHoc\\AIO\\Self-Practice\\Module 1\\Week 2\\P1_data.txt'\n",
        "\n",
        "def word_count(file_path):\n",
        "    print(file_path)\n",
        "    with open(file_path, 'r') as file:\n",
        "        content = file.read()\n",
        "    words = content.split()\n",
        "\n",
        "    # Create a dictionary to count occurrences of each word\n",
        "    word_count_dict = {}\n",
        "\n",
        "    for word in words:\n",
        "        # Normalize the word to lowercase\n",
        "        word = word.lower()\n",
        "        # Remove punctuation from the word (optional)\n",
        "        word = ''.join(char for char in word if char.isalnum())\n",
        "        # Count the word\n",
        "        if word in word_count_dict:\n",
        "            word_count_dict[word] += 1\n",
        "        else:\n",
        "            word_count_dict[word] = 1\n",
        "\n",
        "    # Print the word count dictionary\n",
        "    sorted_word_count = sorted(word_count_dict.items())\n",
        "\n",
        "    # Print the sorted word count\n",
        "    # for word, count in sorted_word_count:\n",
        "    #     print(f\"{word}: {count}\")\n",
        "    return word_count_dict['man']\n",
        "word_count(file_path)"
      ],
      "metadata": {
        "id": "KCzzmN7UYf2L"
      },
      "execution_count": null,
      "outputs": []
    },
    {
      "cell_type": "code",
      "source": [
        "import numpy as np\n",
        "\n",
        "\n",
        "def levenshtein(source,target):\n",
        "    # print(source)\n",
        "    # print(target)\n",
        "    matrix = np.zeros((len(source) , len(target) ))\n",
        "    for i in range(len(source)):\n",
        "        for j in range(len(target)):\n",
        "            matrix[i][j] = 1000000\n",
        "    matrix[0][0] = 0\n",
        "    for i in range(len(source) ):\n",
        "        for j in range(len(target)):\n",
        "            if i-1>=0:\n",
        "                matrix[i][j] = min(matrix[i][j],matrix[i-1][j] + 1)\n",
        "            if j-1>=0:\n",
        "                matrix[i][j] = min(matrix[i][j],matrix[i][j-1] + 1)\n",
        "            if i-1>=0  and j-1>=0:\n",
        "                matrix[i][j] = min(matrix[i][j], matrix[i-1][j-1]+ (source[i]!= target[j]))\n",
        "    # return matrix[len(source)][len(target)]\n",
        "    # print(matrix)\n",
        "    return matrix[len(source)-1][len(target)-1]\n",
        "source = input()\n",
        "target = input()\n",
        "\n",
        "source = '#' + source\n",
        "target = '#' + target\n",
        "\n",
        "# levenshtein(source,target)\n",
        "print(levenshtein(source,target))\n",
        "\n",
        "\n",
        "\n",
        ""
      ],
      "metadata": {
        "id": "YdApI89OYfDX"
      },
      "execution_count": null,
      "outputs": []
    },
    {
      "cell_type": "code",
      "source": [
        "def check_the_number ( N ) :\n",
        "  list_of_numbers = []\n",
        "  result = \"\"\n",
        "  for i in range (1 , 5) :\n",
        "  # Your code here\n",
        "    list_of_numbers.append(i)\n",
        "#Su dung append them i vao trong list_of_number\n",
        "  if N in list_of_numbers :\n",
        "    results = \" True \"\n",
        "  if N not in list_of_numbers :\n",
        "    results = \" False \"\n",
        "  return results\n",
        "\n",
        "N = 7\n",
        "assert check_the_number ( N ) == \" False \"\n",
        "N = 2\n",
        "results = check_the_number ( N )\n",
        "print( results )"
      ],
      "metadata": {
        "colab": {
          "base_uri": "https://localhost:8080/"
        },
        "id": "Lb_C8iWFYJy4",
        "outputId": "532cd9ca-5f9d-4946-e5df-991c76d1be89"
      },
      "execution_count": 3,
      "outputs": [
        {
          "output_type": "stream",
          "name": "stdout",
          "text": [
            " True \n"
          ]
        }
      ]
    },
    {
      "cell_type": "code",
      "source": [
        "def my_function ( data , max , min) :\n",
        "  result = []\n",
        "  for i in data :\n",
        "# Your code here\n",
        "    if i<min :\n",
        "      result.append ( min )\n",
        "# Neu i < min thi them min vao result\n",
        "    elif i > max :\n",
        "      result . append ( max )\n",
        "    else :\n",
        "      result.append ( i )\n",
        "  return result\n",
        "my_list = [5 , 2 , 5 , 0 , 1]\n",
        "max = 1\n",
        "min = 0\n",
        "assert my_function (max = max , min = min , data = my_list ) == [1 , 1 , 1 , 0 , 1]\n",
        "my_list = [10 , 2 , 5 , 0 , 1]\n",
        "max = 2\n",
        "min = 1\n",
        "print( my_function (max = max , min = min , data = my_list ) )"
      ],
      "metadata": {
        "colab": {
          "base_uri": "https://localhost:8080/"
        },
        "id": "1Oc4k7H-YKJt",
        "outputId": "106c8297-d792-4289-a63a-64fa5c62c9fc"
      },
      "execution_count": 4,
      "outputs": [
        {
          "output_type": "stream",
          "name": "stdout",
          "text": [
            "[2, 2, 2, 1, 1]\n"
          ]
        }
      ]
    },
    {
      "cell_type": "code",
      "source": [
        "def my_function (x , y ) :\n",
        "    x.extend(y)\n",
        "    return x\n",
        "list_num1 = [1 , 2]\n",
        "list_num2 = [3 , 4]\n",
        "list_num3 = [0 , 0]\n",
        "print ( my_function ( list_num1 , my_function ( list_num2 , list_num3 ) ) )"
      ],
      "metadata": {
        "colab": {
          "base_uri": "https://localhost:8080/"
        },
        "id": "l_mhQHcXYLWY",
        "outputId": "443d5c05-66f8-4f91-f213-959012cae7dd"
      },
      "execution_count": 5,
      "outputs": [
        {
          "output_type": "stream",
          "name": "stdout",
          "text": [
            "[1, 2, 3, 4, 0, 0]\n"
          ]
        }
      ]
    },
    {
      "cell_type": "code",
      "source": [
        "def My_function( integers , number = 1) :\n",
        "    for i in integers:\n",
        "      if i == number :\n",
        "        return True\n",
        "    return False\n",
        "my_list = [1 , 2 , 3 , 4]\n",
        "print ( My_function ( my_list , 2) )"
      ],
      "metadata": {
        "colab": {
          "base_uri": "https://localhost:8080/"
        },
        "id": "GHWYXhS0YPHo",
        "outputId": "d40180b1-17fd-4740-fccd-0d7928531809"
      },
      "execution_count": 6,
      "outputs": [
        {
          "output_type": "stream",
          "name": "stdout",
          "text": [
            "True\n"
          ]
        }
      ]
    },
    {
      "cell_type": "code",
      "source": [
        "def my_function( list_nums = [0 , 1 , 2]) :\n",
        "  var = 0\n",
        "  for i in list_nums :\n",
        "    var += i\n",
        "  return var / len(list_nums)\n",
        "print( my_function () )"
      ],
      "metadata": {
        "colab": {
          "base_uri": "https://localhost:8080/"
        },
        "id": "uWvNyJ30YQct",
        "outputId": "72ecf708-40c0-4435-982b-007adffe1fa5"
      },
      "execution_count": 7,
      "outputs": [
        {
          "output_type": "stream",
          "name": "stdout",
          "text": [
            "1.0\n"
          ]
        }
      ]
    },
    {
      "cell_type": "code",
      "source": [
        "def my_function( data ):\n",
        "  var = []\n",
        "  for i in data :\n",
        "    if i % 3 == 0 :\n",
        "      var.append(i)\n",
        "  return var\n",
        "print( my_function ([1 , 2 , 3 , 5 , 6]) )"
      ],
      "metadata": {
        "colab": {
          "base_uri": "https://localhost:8080/"
        },
        "id": "HG56_WcZYRxS",
        "outputId": "24a70abc-a63c-4a30-ed3b-749732e32c5b"
      },
      "execution_count": 8,
      "outputs": [
        {
          "output_type": "stream",
          "name": "stdout",
          "text": [
            "[3, 6]\n"
          ]
        }
      ]
    },
    {
      "cell_type": "code",
      "source": [
        "def my_function( y ):\n",
        "  var = 1\n",
        "  while( y > 1) :\n",
        "    var *= y\n",
        "    y -= 1\n",
        "  return var\n",
        "print ( my_function (4) )"
      ],
      "metadata": {
        "colab": {
          "base_uri": "https://localhost:8080/"
        },
        "id": "U60T28w0YR33",
        "outputId": "7001c197-7912-4ebc-d2f0-3084dea9e1a1"
      },
      "execution_count": 9,
      "outputs": [
        {
          "output_type": "stream",
          "name": "stdout",
          "text": [
            "24\n"
          ]
        }
      ]
    }
  ]
}