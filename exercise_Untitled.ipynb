{
  "nbformat": 4,
  "nbformat_minor": 0,
  "metadata": {
    "colab": {
      "provenance": []
    },
    "kernelspec": {
      "name": "python3",
      "display_name": "Python 3"
    },
    "language_info": {
      "name": "python"
    }
  },
  "cells": [
    {
      "cell_type": "code",
      "execution_count": null,
      "metadata": {
        "colab": {
          "base_uri": "https://localhost:8080/"
        },
        "id": "zJA33pMDVoRI",
        "outputId": "b97e903d-891f-47de-f724-f06e9658c243"
      },
      "outputs": [
        {
          "output_type": "stream",
          "name": "stdout",
          "text": [
            "precision is 0.4\n",
            "recall is 0.3333333333333333\n",
            "f1-score is 0.3636363636363636\n"
          ]
        }
      ],
      "source": [
        "import math\n",
        "\n",
        "def metrics(tp, fp, fn):\n",
        "    if not isinstance(tp, int):\n",
        "        print('tp must be int')\n",
        "        return\n",
        "    if not isinstance(fp, int):\n",
        "        print('fp must be int')\n",
        "        return\n",
        "    if not isinstance(fn, int):\n",
        "        print('fn must be int')\n",
        "        return\n",
        "    if tp <= 0 or fp <= 0 or fn <= 0:\n",
        "        print('tp and fp and fn must be greater than zero')\n",
        "        return\n",
        "    precision = tp / (fp + tp)\n",
        "    recall = tp / (fn + tp)\n",
        "    f1_score = 2 * precision * recall / (recall + precision)\n",
        "    print(f'precision is {precision}')\n",
        "    print(f'recall is {recall}')\n",
        "    print(f'f1-score is {f1_score}')\n",
        "\n",
        "metrics(2, 3, 4)\n"
      ]
    },
    {
      "cell_type": "code",
      "source": [
        "\n",
        "def is_number(n):\n",
        "    try:\n",
        "        float(n)\n",
        "    except ValueError:\n",
        "        print('x must be a number')\n",
        "        return False\n",
        "    return True\n",
        "\n",
        "def activation_function():\n",
        "    x = float(input(\" Input x = \"))\n",
        "    act_name = str(input(\"Input activation Function ( sigmoid | relu | elu )\"))\n",
        "    if not is_number(x):\n",
        "        return\n",
        "    if act_name == 'sigmoid' or act_name == 'relu' or act_name == 'elu':\n",
        "        if act_name == 'sigmoid':\n",
        "            sigmoid = 1 / (1 + math.e**(-x))\n",
        "            print(f'sigmoid: f({x}) = {sigmoid}')\n",
        "        elif act_name == 'elu':\n",
        "            if x > 0:\n",
        "                print(f'elu: f({x}) = {x}')\n",
        "            else:\n",
        "                elu = 0.01 * (math.e**x - 1)\n",
        "                print(f'elu: f({x}) = {elu}')\n",
        "        elif act_name == 'relu':\n",
        "            print(f'relu: f({x}) = {max(0, x)}')\n",
        "    else:\n",
        "        print(f'{act_name} is not supported')\n",
        "\n",
        "activation_function()\n"
      ],
      "metadata": {
        "id": "yhgXOlCmZljK",
        "colab": {
          "base_uri": "https://localhost:8080/"
        },
        "outputId": "782adb16-42b2-4cd6-b422-5e19baf49efd"
      },
      "execution_count": null,
      "outputs": [
        {
          "output_type": "stream",
          "name": "stdout",
          "text": [
            " Input x = 2\n",
            "Input activation Function ( sigmoid | relu | elu )elu\n",
            "elu: f(2.0) = 2.0\n"
          ]
        }
      ]
    },
    {
      "cell_type": "code",
      "source": [
        "import random\n",
        "\n",
        "def is_number(n):\n",
        "    try:\n",
        "        float(n)\n",
        "    except ValueError:\n",
        "        print('number of samples must be an integer number')\n",
        "        return False\n",
        "    return True\n",
        "\n",
        "def loss_function():\n",
        "  n = int(input('Input number of samples ( integer number ) which are generated :'))\n",
        "  if not is_number(n):\n",
        "    return\n",
        "  loss_name = str(input('Input loss name :'))\n",
        "  if loss_name == 'MAE' or loss_name == 'MSE' or loss_name == 'RMSE':\n",
        "    if loss_name == 'MAE':\n",
        "      MAE = 0.0\n",
        "      for i in range(n):\n",
        "        y = random.uniform(0, 10)\n",
        "        y_hat = random.uniform(0, 10)\n",
        "        loss = abs(y-y_hat)\n",
        "        MAE += loss\n",
        "        print(f'loss name : MAE , sample : {i} , pred : {y_hat} , target : {y},')\n",
        "      print(f'final MAE: {MAE}')\n",
        "\n",
        "    if loss_name == 'MSE':\n",
        "      MSE = 0.0\n",
        "      for i in range(n):\n",
        "        y = random.uniform(0, 10)\n",
        "        y_hat = random.uniform(0, 10)\n",
        "        loss = (y-y_hat)**2\n",
        "        MSE += loss\n",
        "        print(f'loss name : MSE , sample : {i} , pred : {y_hat} , target : {y}, loss : {loss}')\n",
        "      print(f'final MSE: {MSE}')\n",
        "\n",
        "    if loss_name == 'RMSE':\n",
        "      RuntimeWarningMSE = 0.0\n",
        "      for i in range(n):\n",
        "        y = random.uniform(0, 10)\n",
        "        y_hat = random.uniform(0, 10)\n",
        "        loss = (y-y_hat)**2\n",
        "        RMSE += loss\n",
        "        print(f'loss name : MSE , sample : {i} , pred : {y_hat} , target : {y}, loss : {loss}')\n",
        "      print(f'final RMSE: {MSE**0.5}')\n",
        "  else : print(f'Input loss name must be (MAE , MSE , RMSE)')\n",
        "loss_function()\n",
        "\n"
      ],
      "metadata": {
        "colab": {
          "base_uri": "https://localhost:8080/"
        },
        "id": "V_QyBr7Q-rrz",
        "outputId": "3ba2ba68-23e0-41a0-c396-5751cbd5ed4d"
      },
      "execution_count": null,
      "outputs": [
        {
          "output_type": "stream",
          "name": "stdout",
          "text": [
            "Input number of samples ( integer number ) which are generated :3\n",
            "Input loss name :MAE\n",
            "loss name : MAE , sample : 0 , pred : 4.390025681213128 , target : 1.175578003314931,\n",
            "loss name : MAE , sample : 1 , pred : 0.9375341587433916 , target : 9.495568610251988,\n",
            "loss name : MAE , sample : 2 , pred : 1.7445449330425267 , target : 1.9007522845930147,\n",
            "final MAE: 11.928689480957281\n"
          ]
        }
      ]
    },
    {
      "cell_type": "code",
      "source": [
        "# Mãng giai thừa\n",
        "factorial = []\n",
        "factorial.append(1)\n",
        "for i in range(1,20):\n",
        "    factorial.append(factorial[i-1]*i)\n"
      ],
      "metadata": {
        "id": "seDJZXd9DXX9"
      },
      "execution_count": 2,
      "outputs": []
    },
    {
      "cell_type": "code",
      "source": [
        "import math\n",
        "def is_number(n):\n",
        "    try:\n",
        "        int(n) and n > 0\n",
        "    except ValueError:\n",
        "        print('number of samples must be an integer number and greater than 0')\n",
        "        return False\n",
        "    return True\n",
        "\n",
        "def approx_sin (x,n):\n",
        "  if not is_number(n):\n",
        "    return\n",
        "  sum = 0.0\n",
        "  for i in range(n+1):\n",
        "    sum+=((-1)**i*(x)**(2*i+1)/math.factorial(2*i+1))\n",
        "  print(sum)\n",
        "  return\n",
        "\n",
        "def approx_cos (x , n ) :\n",
        "    if not is_number(n):\n",
        "      return\n",
        "    sum = 0.0\n",
        "    for i in range(n+1):\n",
        "      sum+=((-1)**i*(x)**(2*i)/math.factorial(2*i))\n",
        "    print(sum)\n",
        "    return\n",
        "\n",
        "def approx_sinh (x , n ) :\n",
        "    if not is_number(n):\n",
        "      return\n",
        "    sum = 0.0\n",
        "    for i in range(n+1):\n",
        "      sum+=((x)**(2*i+1)/math.factorial(2*i+1))\n",
        "    print(sum)\n",
        "    return\n",
        "\n",
        "def approx_cosh (x , n ) :\n",
        "    if not is_number(n):\n",
        "      return\n",
        "    sum = 0.0\n",
        "    for i in range(n+1):\n",
        "      sum+=((x)**(2*i)/math.factorial(2*i))\n",
        "    print(sum)\n",
        "\n",
        "approx_sin(3.14,10)\n",
        "approx_cos (3.14 ,10)\n",
        "approx_sinh (3.14 ,10)\n",
        "approx_cosh (3.14 ,10)"
      ],
      "metadata": {
        "colab": {
          "base_uri": "https://localhost:8080/"
        },
        "id": "rt29J9ZORlKr",
        "outputId": "ca61073c-3e15-4c0d-891e-071e14876d53"
      },
      "execution_count": 7,
      "outputs": [
        {
          "output_type": "stream",
          "name": "stdout",
          "text": [
            "0.0015926529267151343\n",
            "-0.9999987316527259\n",
            "11.53029203039954\n",
            "11.573574828234543\n"
          ]
        }
      ]
    },
    {
      "cell_type": "code",
      "source": [
        "def mean_diff(y, y_hat,n,p):\n",
        "    y = y**(1/n)\n",
        "    y_hat = y_hat**(1/n)\n",
        "    print((y-y_hat)**p)\n",
        "mean_diff( y =100 , y_hat =99.5 , n =2 , p =1)\n"
      ],
      "metadata": {
        "colab": {
          "base_uri": "https://localhost:8080/"
        },
        "id": "OJWdkN_TT7Du",
        "outputId": "74b84c00-0c8b-4e7f-889c-ebb60be05440"
      },
      "execution_count": 8,
      "outputs": [
        {
          "output_type": "stream",
          "name": "stdout",
          "text": [
            "0.025031328369998107\n"
          ]
        }
      ]
    }
  ]
}