{
  "nbformat": 4,
  "nbformat_minor": 0,
  "metadata": {
    "colab": {
      "provenance": []
    },
    "kernelspec": {
      "name": "python3",
      "display_name": "Python 3"
    },
    "language_info": {
      "name": "python"
    }
  },
  "cells": [
    {
      "cell_type": "code",
      "execution_count": 1,
      "metadata": {
        "colab": {
          "base_uri": "https://localhost:8080/"
        },
        "id": "9gSSfR2TnYiK",
        "outputId": "b10f026f-7d83-4899-829f-31a5bd61a3cd"
      },
      "outputs": [
        {
          "output_type": "stream",
          "name": "stdout",
          "text": [
            "0.31\n"
          ]
        }
      ],
      "source": [
        "import math\n",
        "def calc_f1_score ( tp , fp , fn ) :\n",
        "   precision = tp/(fp+tp)\n",
        "   recall = tp/(fn+tp)\n",
        "   return (2*precision*recall/(recall+precision))\n",
        "assert round ( calc_f1_score ( tp =2 , fp =3 , fn =5) , 2) == 0.33\n",
        "print ( round ( calc_f1_score ( tp =2 , fp =4 , fn =5) , 2) )"
      ]
    },
    {
      "cell_type": "code",
      "source": [
        "import math\n",
        "def is_number ( n ) :\n",
        "\n",
        "assert is_number (3) == 1.0\n",
        "assert is_number (' -2a') == 0.0\n",
        "print ( is_number (1) )\n",
        "print ( is_number ('n') )"
      ],
      "metadata": {
        "id": "HV0IciivoN7_"
      },
      "execution_count": null,
      "outputs": []
    },
    {
      "cell_type": "code",
      "source": [
        "import math\n",
        "def calc_sig ( x ) :\n",
        "  return (1/(1+math.e**(-x)))\n",
        "assert round ( calc_sig (3) , 2) ==0.95\n",
        "print ( round ( calc_sig (2) , 2) )"
      ],
      "metadata": {
        "colab": {
          "base_uri": "https://localhost:8080/"
        },
        "id": "pKYHHTJTpJhv",
        "outputId": "26f8600f-a6ae-4afc-bedc-ac50ab24a736"
      },
      "execution_count": 2,
      "outputs": [
        {
          "output_type": "stream",
          "name": "stdout",
          "text": [
            "0.88\n"
          ]
        }
      ]
    },
    {
      "cell_type": "code",
      "source": [
        "import math\n",
        "def calc_elu ( x ) :\n",
        "  if x > 0: return x\n",
        "  return 0.01*(math.e**(x)-1)\n",
        "assert round ( calc_elu (1) ) ==1\n",
        "print ( round ( calc_elu ( -1) , 2) )"
      ],
      "metadata": {
        "colab": {
          "base_uri": "https://localhost:8080/"
        },
        "id": "LSrx0sW-pgDG",
        "outputId": "1ef4e1b7-82cf-4e5c-9d41-f752e06578fd"
      },
      "execution_count": 3,
      "outputs": [
        {
          "output_type": "stream",
          "name": "stdout",
          "text": [
            "-0.01\n"
          ]
        }
      ]
    },
    {
      "cell_type": "code",
      "source": [
        "import math\n",
        "def calc_activation_func (x , act_name ) :\n",
        "    if act_name =='relu':\n",
        "      return(max(0,x))\n",
        "    return (1/(1+math.e**(-x)))\n",
        "assert calc_activation_func ( x = 1 , act_name ='relu' ) == 1\n",
        "print ( round ( calc_activation_func (x = 3 , act_name ='sigmoid ') , 2) )"
      ],
      "metadata": {
        "colab": {
          "base_uri": "https://localhost:8080/"
        },
        "id": "XsdHkkmWqCY1",
        "outputId": "7ec7ca4e-0b1e-4408-eb5e-11139f5aa0c0"
      },
      "execution_count": 4,
      "outputs": [
        {
          "output_type": "stream",
          "name": "stdout",
          "text": [
            "0.95\n"
          ]
        }
      ]
    },
    {
      "cell_type": "code",
      "source": [
        "def calc_ae (y , y_hat ) :\n",
        "  return abs(y-y_hat)\n",
        "y = 1\n",
        "y_hat = 6\n",
        "assert calc_ae (y , y_hat ) ==5\n",
        "y = 2\n",
        "y_hat = 9\n",
        "print ( calc_ae (y , y_hat ) )"
      ],
      "metadata": {
        "colab": {
          "base_uri": "https://localhost:8080/"
        },
        "id": "VeZNgfRfqmrV",
        "outputId": "c6a6ef3c-4930-47ed-a966-1f70ec9d062a"
      },
      "execution_count": 5,
      "outputs": [
        {
          "output_type": "stream",
          "name": "stdout",
          "text": [
            "7\n"
          ]
        }
      ]
    },
    {
      "cell_type": "code",
      "source": [
        "def calc_se (y , y_hat ) :\n",
        "  return (abs(y-y_hat))**2\n",
        "y = 4\n",
        "y_hat = 2\n",
        "assert calc_se (y , y_hat ) == 4\n",
        "print ( calc_se (2 , 1) )"
      ],
      "metadata": {
        "colab": {
          "base_uri": "https://localhost:8080/"
        },
        "id": "X2B3P2wPq5My",
        "outputId": "a1bbcbb0-e607-453b-8ccb-97105c5a08e5"
      },
      "execution_count": 6,
      "outputs": [
        {
          "output_type": "stream",
          "name": "stdout",
          "text": [
            "1\n"
          ]
        }
      ]
    },
    {
      "cell_type": "code",
      "source": [
        "def approx_cos (x , n ) :\n",
        "    sum = 0.0\n",
        "    for i in range(n+1):\n",
        "      sum+=((-1)**i*(x)**(2*i)/math.factorial(2*i))\n",
        "    return sum\n",
        "assert round ( approx_cos ( x =1 , n =10) , 2) ==0.54\n",
        "print ( round ( approx_cos ( x =3.14 , n =10) , 2) )"
      ],
      "metadata": {
        "colab": {
          "base_uri": "https://localhost:8080/"
        },
        "id": "NrC_wl6jrWuz",
        "outputId": "78785353-850c-4385-9136-e30fa5c8a389"
      },
      "execution_count": 16,
      "outputs": [
        {
          "output_type": "stream",
          "name": "stdout",
          "text": [
            "-1.0\n"
          ]
        }
      ]
    },
    {
      "cell_type": "code",
      "source": [
        "def approx_sin (x , n ) :\n",
        "    sum = 0.0\n",
        "    for i in range(n+1):\n",
        "      sum+=((-1)**i*(x)**(2*i+1)/math.factorial(2*i+1))\n",
        "    return sum\n",
        "assert round ( approx_sin ( x =1 , n =10) , 4) ==0.8415\n",
        "print ( round ( approx_sin ( x =3.14 , n =10) , 4) )"
      ],
      "metadata": {
        "colab": {
          "base_uri": "https://localhost:8080/"
        },
        "id": "DJzU6h3ysb4h",
        "outputId": "c6fa6f97-90e0-4ca5-9fb1-487b06af4148"
      },
      "execution_count": 15,
      "outputs": [
        {
          "output_type": "stream",
          "name": "stdout",
          "text": [
            "0.0016\n"
          ]
        }
      ]
    },
    {
      "cell_type": "code",
      "source": [
        "def approx_sinh (x , n ) :\n",
        "    sum = 0.0\n",
        "    for i in range(n+1):\n",
        "      sum+=((x)**(2*i+1)/math.factorial(2*i+1))\n",
        "    return sum\n",
        "assert round ( approx_sinh ( x =1 , n =10) , 2) ==1.18\n",
        "print ( round ( approx_sinh ( x =3.14 , n =10) , 2) )"
      ],
      "metadata": {
        "colab": {
          "base_uri": "https://localhost:8080/"
        },
        "id": "hXa1iuQCtR66",
        "outputId": "220bb8c6-f5c3-44eb-f6eb-21f22db1b0fd"
      },
      "execution_count": 17,
      "outputs": [
        {
          "output_type": "stream",
          "name": "stdout",
          "text": [
            "11.53\n"
          ]
        }
      ]
    },
    {
      "cell_type": "code",
      "source": [
        "def approx_cosh (x , n ) :\n",
        "    sum = 0.0\n",
        "    for i in range(n+1):\n",
        "      sum+=((x)**(2*i)/math.factorial(2*i))\n",
        "    return sum\n",
        "assert round ( approx_cosh ( x =1 , n =10) , 2) ==1.54\n",
        "print ( round ( approx_cosh ( x =3.14 , n =10) , 2) )"
      ],
      "metadata": {
        "colab": {
          "base_uri": "https://localhost:8080/"
        },
        "id": "kJqtTM-ttnUt",
        "outputId": "86edee6e-b738-478b-9f27-7792bf890b51"
      },
      "execution_count": 18,
      "outputs": [
        {
          "output_type": "stream",
          "name": "stdout",
          "text": [
            "11.57\n"
          ]
        }
      ]
    }
  ]
}